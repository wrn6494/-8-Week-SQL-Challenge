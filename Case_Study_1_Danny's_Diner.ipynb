{
  "nbformat": 4,
  "nbformat_minor": 0,
  "metadata": {
    "colab": {
      "provenance": [],
      "collapsed_sections": [],
      "authorship_tag": "ABX9TyN8TcWjVKQnA2FmbZu/tvEM",
      "include_colab_link": true
    },
    "kernelspec": {
      "name": "python3",
      "display_name": "Python 3"
    },
    "language_info": {
      "name": "python"
    }
  },
  "cells": [
    {
      "cell_type": "markdown",
      "metadata": {
        "id": "view-in-github",
        "colab_type": "text"
      },
      "source": [
        "<a href=\"https://colab.research.google.com/github/wrn6494/-8-Week-SQL-Challenge/blob/main/Case_Study_1_Danny's_Diner.ipynb\" target=\"_parent\"><img src=\"https://colab.research.google.com/assets/colab-badge.svg\" alt=\"Open In Colab\"/></a>"
      ]
    },
    {
      "cell_type": "markdown",
      "source": [
        "\n",
        "# **8 Week SQL Challenge : Case Study #1 - Danny's Diner**\n",
        "\n",
        "Full case study available [here.](https://8weeksqlchallenge.com/case-study-1/)"
      ],
      "metadata": {
        "id": "N4oEIr4ggZpF"
      }
    },
    {
      "cell_type": "markdown",
      "source": [
        "**Probem Statement/Business Task**\n",
        "\n",
        "Danny wants to use the data to answer a few simple questions about his customers.\n",
        "\n",
        "*   customer visiting patterns\n",
        "*   how much money they’ve spent\n",
        "*   which menu items are the customer's favourite \n",
        "\n",
        "Having this deeper connection with his customers will help him **deliver a better and more personalised experience for his loyal customers**.\n",
        "\n",
        "He plans on using these insights to help him **decide whether he should expand the existing customer loyalty program** - additionally he needs help to generate some basic datasets so his team can easily inspect the data without needing to use SQL.\n",
        "\n",
        "Danny has provided you with a **sample of his overall customer data due to privacy issues** - but he hopes that these examples are enough for you to write fully functioning SQL queries to help him answer his questions!\n",
        "\n",
        "There are 3 key datasets available for this case study:\n",
        "\n",
        "*   sales\n",
        "*   menu\n",
        "*   members"
      ],
      "metadata": {
        "id": "4btAjFeKiW56"
      }
    },
    {
      "cell_type": "markdown",
      "source": [
        "**Schema (PostgreSQL v13)**\n",
        "\n",
        "    CREATE SCHEMA dannys_diner;\n",
        "    SET search_path = dannys_diner;\n",
        "    \n",
        "    CREATE TABLE sales (\n",
        "      \"customer_id\" VARCHAR(1),\n",
        "      \"order_date\" DATE,\n",
        "      \"product_id\" INTEGER\n",
        "    );\n",
        "    \n",
        "    INSERT INTO sales\n",
        "      (\"customer_id\", \"order_date\", \"product_id\")\n",
        "    VALUES\n",
        "      ('A', '2021-01-01', '1'),\n",
        "      ('A', '2021-01-01', '2'),\n",
        "      ('A', '2021-01-07', '2'),\n",
        "      ('A', '2021-01-10', '3'),\n",
        "      ('A', '2021-01-11', '3'),\n",
        "      ('A', '2021-01-11', '3'),\n",
        "      ('B', '2021-01-01', '2'),\n",
        "      ('B', '2021-01-02', '2'),\n",
        "      ('B', '2021-01-04', '1'),\n",
        "      ('B', '2021-01-11', '1'),\n",
        "      ('B', '2021-01-16', '3'),\n",
        "      ('B', '2021-02-01', '3'),\n",
        "      ('C', '2021-01-01', '3'),\n",
        "      ('C', '2021-01-01', '3'),\n",
        "      ('C', '2021-01-07', '3');\n",
        "     \n",
        "    \n",
        "    CREATE TABLE menu (\n",
        "      \"product_id\" INTEGER,\n",
        "      \"product_name\" VARCHAR(5),\n",
        "      \"price\" INTEGER\n",
        "    );\n",
        "    \n",
        "    INSERT INTO menu\n",
        "      (\"product_id\", \"product_name\", \"price\")\n",
        "    VALUES\n",
        "      ('1', 'sushi', '10'),\n",
        "      ('2', 'curry', '15'),\n",
        "      ('3', 'ramen', '12');\n",
        "      \n",
        "    \n",
        "    CREATE TABLE members (\n",
        "      \"customer_id\" VARCHAR(1),\n",
        "      \"join_date\" DATE\n",
        "    );\n",
        "    \n",
        "    INSERT INTO members\n",
        "      (\"customer_id\", \"join_date\")\n",
        "    VALUES\n",
        "      ('A', '2021-01-07'),\n",
        "      ('B', '2021-01-09');"
      ],
      "metadata": {
        "id": "ai8eF-e8U_mq"
      }
    },
    {
      "cell_type": "markdown",
      "source": [
        "**Entity Relationship Diagram**"
      ],
      "metadata": {
        "id": "XxFdwJ_XiU-4"
      }
    },
    {
      "cell_type": "markdown",
      "source": [
        "![Danny's Diner.png](data:image/png;base64,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)"
      ],
      "metadata": {
        "id": "JESEFYY8dpxU"
      }
    },
    {
      "cell_type": "markdown",
      "source": [
        "**Case Study Questions**\n",
        "1. What is the total amount each customer spent at the restaurant?\n",
        "2. How many days has each customer visited the restaurant?\n",
        "3. What was the first item from the menu purchased by each customer?\n",
        "4. What is the most purchased item on the menu and how many times was it purchased by all customers?\n",
        "5. Which item was the most popular for each customer?\n",
        "6. Which item was purchased first by the customer after they became a member?\n",
        "7. Which item was purchased just before the customer became a member?\n",
        "8. What is the total items and amount spent for each member before they became a member?\n",
        "9.  If each $1 spent equates to 10 points and sushi has a 2x points multiplier - how many points would each customer have?\n",
        "10. In the first week after a customer joins the program (including their join date) they earn 2x points on all items, not just sushi - how many points do customer A and B have at the end of January?"
      ],
      "metadata": {
        "id": "GEnAFfdSjG8T"
      }
    },
    {
      "cell_type": "markdown",
      "source": [
        "**Solution**\n",
        "\n",
        "PostgreSQL v13 was used.\n",
        "Functions used are:\n",
        "\n",
        "*   Aggregate functions — SUM, COUNT\n",
        "*   Joins — Inner join, full join\n",
        "*   Temp tables (CTE)\n",
        "*   Windows function\n",
        "*   Subqueries"
      ],
      "metadata": {
        "id": "NMHjvXdujbNm"
      }
    },
    {
      "cell_type": "markdown",
      "source": [
        "**1. What is the total amount each customer spent at the restaurant?**\n",
        "\n",
        "    SELECT\n",
        "      customer_id,\n",
        "      SUM(price) AS total_sales\n",
        "    FROM dannys_diner.sales s \n",
        "    JOIN dannys_diner.menu m\n",
        "      ON s.product_id=m.product_id\n",
        "    GROUP BY customer_id\n",
        "    ORDER BY customer_id;\n",
        "\n",
        "| customer_id | total_sales |\n",
        "| ----------- | ----------- |\n",
        "| A           | 76          |\n",
        "| B           | 74          |\n",
        "| C           | 36          |"
      ],
      "metadata": {
        "id": "l0dK_K56kDsi"
      }
    },
    {
      "cell_type": "markdown",
      "source": [
        "**Answer:**\n",
        "\n",
        "*   Customer A spent 76 dollars.\n",
        "*   Customer B spent 74 dollars.\n",
        "*   Customer C spent 36 dollars."
      ],
      "metadata": {
        "id": "_kMWG6g4maDc"
      }
    },
    {
      "cell_type": "markdown",
      "source": [
        "**2. How many days has each customer visited the restaurant?**\n",
        "\n",
        "    SELECT\n",
        "      customer_id,\n",
        "      COUNT(DISTINCT order_date) AS no_of_days_visited\n",
        "    FROM dannys_diner.sales\n",
        "    GROUP BY customer_id\n",
        "    ORDER BY customer_id;\n",
        "\n",
        "| customer_id | no_of_days_visited |\n",
        "| ----------- | ------------------ |\n",
        "| A           | 4                  |\n",
        "| B           | 6                  |\n",
        "| C           | 2                  |\n"
      ],
      "metadata": {
        "id": "-XoAdvizIn0P"
      }
    },
    {
      "cell_type": "markdown",
      "source": [
        "**Answer:**\n",
        "\n",
        "*   Customer A visited 4 times.\n",
        "*   Customer B visited 6 times.\n",
        "*   Customer C visited 2 times."
      ],
      "metadata": {
        "id": "ONAhwu4fnBH3"
      }
    },
    {
      "cell_type": "markdown",
      "source": [
        "**3. What was the first item from the menu purchased by each customer?**\n",
        "\n",
        "    SELECT \n",
        "      DISTINCT customer_id,\n",
        "      product_name\n",
        "    FROM \n",
        "      (\n",
        "      SELECT *,\n",
        "      RANK() OVER (PARTITION BY customer_id ORDER BY order_date) AS rank\n",
        "      FROM dannys_diner.sales s \n",
        "    \tJOIN  dannys_diner.menu m\n",
        "    \t  ON s.product_id=m.product_id\n",
        "      ) AS a\n",
        "    WHERE rank = 1\n",
        "    ORDER BY customer_id;\n",
        "\n",
        "| customer_id | product_name |\n",
        "| ----------- | ------------ |\n",
        "| A           | curry        |\n",
        "| A           | sushi        |\n",
        "| B           | curry        |\n",
        "| C           | ramen        |"
      ],
      "metadata": {
        "id": "3G0vu-fOV3ON"
      }
    },
    {
      "cell_type": "markdown",
      "source": [
        "**Answer:**\n",
        "\n",
        "*   Customer A ordered curry and sushi first.\n",
        "*   Customer B ordered curry.\n",
        "*   Customer C ordered ramen."
      ],
      "metadata": {
        "id": "KsGB3tB5nWaS"
      }
    },
    {
      "cell_type": "markdown",
      "source": [
        "**4. What is the most purchased item on the menu and how many times was it purchased by all customers?**\n",
        "\n",
        "    SELECT\n",
        "      product_name,\n",
        "      COUNT(s.product_id) AS total_sales\n",
        "    FROM dannys_diner.sales s \n",
        "    JOIN  dannys_diner.menu m\n",
        "      ON s.product_id=m.product_id\n",
        "    GROUP BY product_name\n",
        "    ORDER BY total_sales DESC\n",
        "    LIMIT 1;\n",
        "\n",
        "| product_name | total_sales |\n",
        "| ------------ | ----------- |\n",
        "| ramen        | 8           |"
      ],
      "metadata": {
        "id": "5yCbmVi5JwVH"
      }
    },
    {
      "cell_type": "markdown",
      "source": [
        "**Answer:**\n",
        "\n",
        "*   Most purchased product on the menu is ramen."
      ],
      "metadata": {
        "id": "OqYHvnPonuVH"
      }
    },
    {
      "cell_type": "markdown",
      "source": [
        "**5. Which item was the most popular for each customer?**\n",
        "\n",
        "    SELECT \n",
        "      customer_id,\n",
        "      product_name, \n",
        "      total_orders\n",
        "    FROM\n",
        "      (\n",
        "      SELECT customer_id,\n",
        "        product_name,\n",
        "        COUNT(s.product_id) AS total_orders,\n",
        "        RANK() OVER (PARTITION BY customer_id ORDER BY COUNT(s.product_id) DESC) AS rank\n",
        "      FROM dannys_diner.sales s \n",
        "    \tJOIN  dannys_diner.menu m\n",
        "    \t  ON s.product_id=m.product_id\n",
        "      GROUP BY customer_id,product_name\n",
        "      ORDER BY customer_id\n",
        "      ) AS a\n",
        "    WHERE rank=1\n",
        "    GROUP BY customer_id,product_name,total_orders\n",
        "    ORDER BY customer_id,product_name;\n",
        "\n",
        "| customer_id | product_name | total_orders |\n",
        "| ----------- | ------------ | ------------ |\n",
        "| A           | ramen        | 3            |\n",
        "| B           | curry        | 2            |\n",
        "| B           | ramen        | 2            |\n",
        "| B           | sushi        | 2            |\n",
        "| C           | ramen        | 3            |"
      ],
      "metadata": {
        "id": "pdSdgn4DWHar"
      }
    },
    {
      "cell_type": "markdown",
      "source": [
        "**Answer:**\n",
        "\n",
        "*   Customer A and C like ramen the most.\n",
        "*   Customer B likes the whole menu, he/she ordered curry,ramen and sushi equally."
      ],
      "metadata": {
        "id": "990FNz62sFlf"
      }
    },
    {
      "cell_type": "markdown",
      "source": [
        "\n",
        "**6. Which item was purchased first by the customer after they became a member?**\n",
        "\n",
        "    SELECT \n",
        "      DISTINCT a.customer_id,\n",
        "      order_date,\n",
        "      product_name\n",
        "    FROM \n",
        "      (\n",
        "      SELECT s.customer_id,\n",
        "        s.order_date,\n",
        "        s.product_id,\n",
        "        RANK() OVER (PARTITION BY s.customer_id ORDER BY s.order_date) AS rank\n",
        "      FROM dannys_diner.sales s \n",
        "      JOIN dannys_diner.members mm\n",
        "        ON s.customer_id=mm.customer_id\n",
        "      WHERE s.order_date>=mm.join_date\n",
        "      ) AS a\n",
        "    JOIN  dannys_diner.menu m\n",
        "      ON a.product_id=m.product_id\n",
        "    WHERE rank = 1\n",
        "    ORDER BY a.customer_id;\n",
        "\n",
        "| customer_id | order_date               | product_name |\n",
        "| ----------- | ------------------------ | ------------ |\n",
        "| A           | 2021-01-07T00:00:00.000Z | curry        |\n",
        "| B           | 2021-01-11T00:00:00.000Z | sushi        |"
      ],
      "metadata": {
        "id": "kmRwssm5d8gR"
      }
    },
    {
      "cell_type": "markdown",
      "source": [
        "**Answer**\n",
        "*   Customer A ordered curry.\n",
        "*   Customer B ordered sushi.\n"
      ],
      "metadata": {
        "id": "K2lldZWVsc-g"
      }
    },
    {
      "cell_type": "markdown",
      "source": [
        "\n",
        "**7. Which item was purchased just before the customer became a member?**\n",
        "\n",
        "    SELECT \n",
        "      DISTINCT a.customer_id,\n",
        "    \torder_date,\n",
        "      product_name\n",
        "    FROM \n",
        "      (\n",
        "      SELECT s.customer_id,\n",
        "        order_date,\n",
        "        product_id,\n",
        "        RANK() OVER (PARTITION BY s.customer_id ORDER BY order_date DESC) AS rank\n",
        "      FROM dannys_diner.sales s \n",
        "      JOIN dannys_diner.members mm\n",
        "        ON s.customer_id=mm.customer_id\n",
        "      WHERE s.order_date<mm.join_date\n",
        "      ) AS a\n",
        "    JOIN  dannys_diner.menu m\n",
        "    \tON a.product_id=m.product_id\n",
        "    WHERE rank = 1\n",
        "    ORDER BY a.customer_id;\n",
        "\n",
        "| customer_id | order_date               | product_name |\n",
        "| ----------- | ------------------------ | ------------ |\n",
        "| A           | 2021-01-01T00:00:00.000Z | curry        |\n",
        "| A           | 2021-01-01T00:00:00.000Z | sushi        |\n",
        "| B           | 2021-01-04T00:00:00.000Z | sushi        |"
      ],
      "metadata": {
        "id": "7-rcK2e6qLVe"
      }
    },
    {
      "cell_type": "markdown",
      "source": [
        "**Answer**\n",
        "*   Customer A ordered curry and sushi before becoming a member.\n",
        "*   Customer B ordered sushi.\n"
      ],
      "metadata": {
        "id": "5LEo1jG5tBmj"
      }
    },
    {
      "cell_type": "markdown",
      "source": [
        "**8. What is the total items and amount spent for each member before they became a member?**\n",
        "\n",
        "    SELECT \n",
        "      DISTINCT s.customer_id,\n",
        "      COUNT(DISTINCT product_name) AS total_items,\n",
        "      SUM(price) AS amount_spent\n",
        "    FROM dannys_diner.sales s \n",
        "    JOIN dannys_diner.members mm\n",
        "      ON s.customer_id=mm.customer_id\n",
        "    JOIN  dannys_diner.menu m\n",
        "    \tON s.product_id=m.product_id\n",
        "    WHERE order_date<join_date\n",
        "    GROUP BY s.customer_id\n",
        "    ORDER BY s.customer_id;\n",
        "\n",
        "| customer_id | total_items | amount_spent |\n",
        "| ----------- | ----------- | ------------ |\n",
        "| A           | 2           | 25           |\n",
        "| B           | 2           | 40           |"
      ],
      "metadata": {
        "id": "0us8HNEkqmPz"
      }
    },
    {
      "cell_type": "markdown",
      "source": [
        "**Answer**\n",
        "*   Customer A ordered 2 items with total amount of 25 dollars.\n",
        "*   Customer B ordered 2 items with total amount of 40 dollars.\n"
      ],
      "metadata": {
        "id": "ZCdDayuxtKwU"
      }
    },
    {
      "cell_type": "markdown",
      "source": [
        "**9.  If each $1 spent equates to 10 points and sushi has a 2x points multiplier - how many points would each customer have?**\n",
        "\n",
        "    SELECT \n",
        "      DISTINCT s.customer_id,\n",
        "    \tSUM(\n",
        "        CASE WHEN product_name= 'sushi' \n",
        "    \t  THEN price*20 \n",
        "    \t  ELSE price*10\n",
        "    \t  END) AS points_sum\n",
        "    FROM dannys_diner.sales s \n",
        "    JOIN  dannys_diner.menu m\n",
        "    \tON s.product_id=m.product_id\n",
        "    GROUP BY s.customer_id\n",
        "    ORDER BY s.customer_id;\n",
        "\n",
        "| customer_id | points_sum |\n",
        "| ----------- | ---------- |\n",
        "| A           | 860        |\n",
        "| B           | 940        |\n",
        "| C           | 360        |"
      ],
      "metadata": {
        "id": "irWfxSQLs72G"
      }
    },
    {
      "cell_type": "markdown",
      "source": [
        "**Answer**\n",
        "\n",
        "*   Customer A would have a total of 860 points.\n",
        "*   Customer B would have a total of 940 points.\n",
        "*   Customer C would have a total of 360 points.\n",
        "\n"
      ],
      "metadata": {
        "id": "CrlSt5cbtVBu"
      }
    },
    {
      "cell_type": "markdown",
      "source": [
        "**10. In the first week after a customer joins the program (including their join date) they earn 2x points on all items, not just sushi - how many points do customer A and B have at the end of January?**\n",
        "\n",
        "    WITH a AS\n",
        "      (\n",
        "      SELECT DISTINCT customer_id, \n",
        "        (join_date +INTERVAL '6 days') AS endpromotions_date\n",
        "      FROM dannys_diner.members mm\n",
        "      )\n",
        "    \n",
        "    SELECT\n",
        "      s.customer_id,\n",
        "      SUM(\n",
        "        CASE WHEN (order_date BETWEEN join_date AND endpromotions_date)\n",
        "        THEN price*20\n",
        "        WHEN product_name= 'sushi' \n",
        "        THEN price*20\n",
        "        ELSE price*10\n",
        "        END) AS points_sum\n",
        "    FROM dannys_diner.menu m\n",
        "    JOIN dannys_diner.sales s\n",
        "      ON m.product_id=s.product_id\n",
        "    JOIN dannys_diner.members mm\n",
        "      ON s.customer_id=mm.customer_id\n",
        "    JOIN a \n",
        "      ON a.customer_id=mm.customer_id\n",
        "    WHERE order_date<'2021-02-01'\n",
        "    GROUP BY s.customer_id\n",
        "    ORDER BY s.customer_id;\n",
        "\n",
        "| customer_id | points_sum |\n",
        "| ----------- | ---------- |\n",
        "| A           | 1370       |\n",
        "| B           | 820        |\n"
      ],
      "metadata": {
        "id": "im7E4rbRSVJP"
      }
    },
    {
      "cell_type": "markdown",
      "source": [
        "**Answer**\n",
        "\n",
        "*   Customer A would have a total of 1370 points.\n",
        "*   Customer B would have a total of 820 points."
      ],
      "metadata": {
        "id": "6SelaZmht1ZN"
      }
    },
    {
      "cell_type": "markdown",
      "source": [
        "**Bonus Question: Recreate the table with: customer_id, order_date, product_name, price, member (Y/N)**\n",
        "\n",
        "    SELECT\n",
        "      s.customer_id,\n",
        "      order_date,\n",
        "      product_name,\n",
        "      price,\n",
        "      (CASE WHEN order_date >= join_date\n",
        "      THEN 'Y'\n",
        "      ELSE 'N'\n",
        "      END) AS member\n",
        "    FROM dannys_diner.menu m\n",
        "    FULL JOIN dannys_diner.sales s\n",
        "      ON m.product_id=s.product_id\n",
        "    FULL JOIN dannys_diner.members mm\n",
        "      ON s.customer_id=mm.customer_id\n",
        "    ORDER BY s.customer_id, order_date,product_name;\n",
        "\n",
        "| customer_id | order_date               | product_name | price | member |\n",
        "| ----------- | ------------------------ | ------------ | ----- | ------ |\n",
        "| A           | 2021-01-01T00:00:00.000Z | curry        | 15    | N      |\n",
        "| A           | 2021-01-01T00:00:00.000Z | sushi        | 10    | N      |\n",
        "| A           | 2021-01-07T00:00:00.000Z | curry        | 15    | Y      |\n",
        "| A           | 2021-01-10T00:00:00.000Z | ramen        | 12    | Y      |\n",
        "| A           | 2021-01-11T00:00:00.000Z | ramen        | 12    | Y      |\n",
        "| A           | 2021-01-11T00:00:00.000Z | ramen        | 12    | Y      |\n",
        "| B           | 2021-01-01T00:00:00.000Z | curry        | 15    | N      |\n",
        "| B           | 2021-01-02T00:00:00.000Z | curry        | 15    | N      |\n",
        "| B           | 2021-01-04T00:00:00.000Z | sushi        | 10    | N      |\n",
        "| B           | 2021-01-11T00:00:00.000Z | sushi        | 10    | Y      |\n",
        "| B           | 2021-01-16T00:00:00.000Z | ramen        | 12    | Y      |\n",
        "| B           | 2021-02-01T00:00:00.000Z | ramen        | 12    | Y      |\n",
        "| C           | 2021-01-01T00:00:00.000Z | ramen        | 12    | N      |\n",
        "| C           | 2021-01-01T00:00:00.000Z | ramen        | 12    | N      |\n",
        "| C           | 2021-01-07T00:00:00.000Z | ramen        | 12    | N      |"
      ],
      "metadata": {
        "id": "O1elnAh6UzzO"
      }
    },
    {
      "cell_type": "markdown",
      "source": [
        "**Bonus Question: Ranking of customer products**\n",
        "\n",
        "    WITH a AS\n",
        "      (\n",
        "      SELECT s.customer_id,\n",
        "        order_date,\n",
        "        product_name,\n",
        "        price,\n",
        "        (CASE WHEN order_date >= join_date\n",
        "        THEN 'Y'\n",
        "        ELSE 'N'\n",
        "        END) AS member\n",
        "      FROM dannys_diner.menu m\n",
        "      FULL JOIN dannys_diner.sales s\n",
        "        ON m.product_id=s.product_id\n",
        "      FULL JOIN dannys_diner.members mm\n",
        "        ON s.customer_id=mm.customer_id\n",
        "      ORDER BY s.customer_id, order_date,product_name\n",
        "      )\n",
        "    \n",
        "    SELECT *, \n",
        "      (CASE WHEN member='N' \n",
        "      THEN null \n",
        "      ELSE RANK() OVER (PARTITION BY a.customer_id,member ORDER BY order_date)\n",
        "      END) AS ranking\n",
        "    FROM  a;\n",
        "\n",
        "| customer_id | order_date               | product_name | price | member | ranking |\n",
        "| ----------- | ------------------------ | ------------ | ----- | ------ | ------- |\n",
        "| A           | 2021-01-01T00:00:00.000Z | curry        | 15    | N      |         |\n",
        "| A           | 2021-01-01T00:00:00.000Z | sushi        | 10    | N      |         |\n",
        "| A           | 2021-01-07T00:00:00.000Z | curry        | 15    | Y      | 1       |\n",
        "| A           | 2021-01-10T00:00:00.000Z | ramen        | 12    | Y      | 2       |\n",
        "| A           | 2021-01-11T00:00:00.000Z | ramen        | 12    | Y      | 3       |\n",
        "| A           | 2021-01-11T00:00:00.000Z | ramen        | 12    | Y      | 3       |\n",
        "| B           | 2021-01-01T00:00:00.000Z | curry        | 15    | N      |         |\n",
        "| B           | 2021-01-02T00:00:00.000Z | curry        | 15    | N      |         |\n",
        "| B           | 2021-01-04T00:00:00.000Z | sushi        | 10    | N      |         |\n",
        "| B           | 2021-01-11T00:00:00.000Z | sushi        | 10    | Y      | 1       |\n",
        "| B           | 2021-01-16T00:00:00.000Z | ramen        | 12    | Y      | 2       |\n",
        "| B           | 2021-02-01T00:00:00.000Z | ramen        | 12    | Y      | 3       |\n",
        "| C           | 2021-01-01T00:00:00.000Z | ramen        | 12    | N      |         |\n",
        "| C           | 2021-01-01T00:00:00.000Z | ramen        | 12    | N      |         |\n",
        "| C           | 2021-01-07T00:00:00.000Z | ramen        | 12    | N      |         |"
      ],
      "metadata": {
        "id": "_UAaedcPfzTe"
      }
    },
    {
      "cell_type": "markdown",
      "source": [
        "**Insights**\n",
        "\n",
        "1. The last item ordered by Customers A and B before they became members are the same with the first item they bought after becoming a member. They were curry and sushi respectively. Did they like those menu so much that they availed the membership?\n",
        "2. All the customers love ramen! Customer C have only ordered ramen for his 3 visits. If sushi and curry were the deciding factor for A&B to become a member, maybe Danny can offer a free taste for Customer C to try them. Who knows maybe he'll like it too and decides to become a member."
      ],
      "metadata": {
        "id": "1qhVcRUPw59h"
      }
    }
  ]
}